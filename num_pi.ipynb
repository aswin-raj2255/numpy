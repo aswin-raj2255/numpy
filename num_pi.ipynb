{
  "nbformat": 4,
  "nbformat_minor": 0,
  "metadata": {
    "colab": {
      "provenance": [],
      "authorship_tag": "ABX9TyMHcHYGFNa+I8vlJPfN1Gci",
      "include_colab_link": true
    },
    "kernelspec": {
      "name": "python3",
      "display_name": "Python 3"
    },
    "language_info": {
      "name": "python"
    }
  },
  "cells": [
    {
      "cell_type": "markdown",
      "metadata": {
        "id": "view-in-github",
        "colab_type": "text"
      },
      "source": [
        "<a href=\"https://colab.research.google.com/github/aswin-raj2255/numpy/blob/main/num_pi.ipynb\" target=\"_parent\"><img src=\"https://colab.research.google.com/assets/colab-badge.svg\" alt=\"Open In Colab\"/></a>"
      ]
    },
    {
      "cell_type": "code",
      "execution_count": null,
      "metadata": {
        "colab": {
          "base_uri": "https://localhost:8080/"
        },
        "id": "waUjFv7aY2AF",
        "outputId": "33e86ff7-b9b3-4794-85e0-954dc470c2da"
      },
      "outputs": [
        {
          "output_type": "stream",
          "name": "stdout",
          "text": [
            "['3']\n"
          ]
        }
      ],
      "source": [
        "import numpy as np #numerical python\n",
        "#array is collection of homogeonous dataype\n",
        "a=np.array([1,2,3,4,\"a\"])\n",
        "print(a[2:3:1])"
      ]
    },
    {
      "cell_type": "code",
      "source": [
        "b=np.array([1,2,3,4,5])\n",
        "print(b[0:2:1])\n",
        "print(b[-1:-3:-1])\n",
        "print(b[3::1])\n",
        "print(b[0:2:1])\n",
        "print(b[-4::-1])"
      ],
      "metadata": {
        "colab": {
          "base_uri": "https://localhost:8080/"
        },
        "id": "RXb_-OVgbi8Y",
        "outputId": "ca2019b0-c861-47c0-d2fa-09c27c5b619e"
      },
      "execution_count": null,
      "outputs": [
        {
          "output_type": "stream",
          "name": "stdout",
          "text": [
            "[1 2]\n",
            "[5 4]\n",
            "[4 5]\n",
            "[1 2]\n",
            "[2 1]\n"
          ]
        }
      ]
    },
    {
      "cell_type": "code",
      "source": [
        "#dimension\n",
        "c=np.array([1,2,3,4,5])\n",
        "b=np.array([[3,4,4],[1,2,6]])\n",
        "c.ndim #dimension =1 is vector\n",
        "b.ndim\n",
        "print(b.shape)"
      ],
      "metadata": {
        "colab": {
          "base_uri": "https://localhost:8080/"
        },
        "id": "BXpHNG5PdBr7",
        "outputId": "6b67cd9f-0bb5-4ebf-e84d-62529344939a"
      },
      "execution_count": null,
      "outputs": [
        {
          "output_type": "stream",
          "name": "stdout",
          "text": [
            "(2, 3)\n"
          ]
        }
      ]
    },
    {
      "cell_type": "code",
      "source": [
        "#create a 2x2 matrix 2,3,4,5\n",
        "d=np.array([[2,3],[4,5]])\n",
        "print(d.shape)\n",
        "print(d.ndim)\n",
        "print(d.size)"
      ],
      "metadata": {
        "colab": {
          "base_uri": "https://localhost:8080/"
        },
        "id": "g_EpMGu7eXBM",
        "outputId": "98bb2836-dc1f-4f68-ab29-5c2fb643b49d"
      },
      "execution_count": null,
      "outputs": [
        {
          "output_type": "stream",
          "name": "stdout",
          "text": [
            "(2, 2)\n",
            "2\n",
            "4\n"
          ]
        }
      ]
    },
    {
      "cell_type": "code",
      "source": [
        "#create a 2x3 matrix find size shape dim\n",
        "z=np.array([[2,3,4],[4,5,6]])\n",
        "print(z.shape)\n",
        "print(z.ndim)\n",
        "print(z.size)\n"
      ],
      "metadata": {
        "colab": {
          "base_uri": "https://localhost:8080/"
        },
        "id": "omGIrFZPfXhT",
        "outputId": "de82d872-5ab2-4eb0-d9d3-e2c77a5cba11"
      },
      "execution_count": null,
      "outputs": [
        {
          "output_type": "stream",
          "name": "stdout",
          "text": [
            "(2, 3)\n",
            "2\n",
            "6\n"
          ]
        }
      ]
    },
    {
      "cell_type": "code",
      "source": [
        "#4x2\n",
        "g=np.array([[1,2],[3,4],[5,6],[7,8]])\n",
        "print(g)\n",
        "print(g.shape)\n",
        "print(g.ndim)\n",
        "print(g.size)\n"
      ],
      "metadata": {
        "colab": {
          "base_uri": "https://localhost:8080/"
        },
        "id": "YN3cvGY2gRL3",
        "outputId": "dace51d0-5944-4436-81ce-b12c94e7dccc"
      },
      "execution_count": null,
      "outputs": [
        {
          "output_type": "stream",
          "name": "stdout",
          "text": [
            "[[1 2]\n",
            " [3 4]\n",
            " [5 6]\n",
            " [7 8]]\n",
            "(4, 2)\n",
            "2\n",
            "8\n"
          ]
        }
      ]
    },
    {
      "cell_type": "code",
      "source": [
        "#create a 4x4 matrix\n",
        "import numpy as np\n",
        "g=np.array([[1,2,4,5],[3,4,6,7],[5,6,7,4],[7,8,6,2]])\n",
        "print(g)\n",
        "print(g.shape)\n",
        "print(g.ndim)\n",
        "print(g.size)\n",
        "print(g[0])\n",
        "print(g[:,0])\n",
        "print(g[1,3])\n",
        "print(g[2,2])\n",
        "print(g[3,1:])\n",
        "print(g[1:,1:])"
      ],
      "metadata": {
        "colab": {
          "base_uri": "https://localhost:8080/"
        },
        "id": "Gao7tEBphVrS",
        "outputId": "8a1af910-629a-4440-df24-19013dfd4e59"
      },
      "execution_count": null,
      "outputs": [
        {
          "output_type": "stream",
          "name": "stdout",
          "text": [
            "[[1 2 4 5]\n",
            " [3 4 6 7]\n",
            " [5 6 7 4]\n",
            " [7 8 6 2]]\n",
            "(4, 4)\n",
            "2\n",
            "16\n",
            "[1 2 4 5]\n",
            "[1 3 5 7]\n",
            "7\n",
            "7\n",
            "[8 6 2]\n",
            "[[4 6 7]\n",
            " [6 7 4]\n",
            " [8 6 2]]\n"
          ]
        }
      ]
    },
    {
      "cell_type": "code",
      "source": [
        "#zero matrix\n",
        "z=np.zeros([3,3,3],dtype=int)\n",
        "z"
      ],
      "metadata": {
        "colab": {
          "base_uri": "https://localhost:8080/"
        },
        "id": "pUmDODrXZV-f",
        "outputId": "22861335-07be-438e-e66f-e271cd9e60ff"
      },
      "execution_count": null,
      "outputs": [
        {
          "output_type": "execute_result",
          "data": {
            "text/plain": [
              "array([[[0, 0, 0],\n",
              "        [0, 0, 0],\n",
              "        [0, 0, 0]],\n",
              "\n",
              "       [[0, 0, 0],\n",
              "        [0, 0, 0],\n",
              "        [0, 0, 0]],\n",
              "\n",
              "       [[0, 0, 0],\n",
              "        [0, 0, 0],\n",
              "        [0, 0, 0]]])"
            ]
          },
          "metadata": {},
          "execution_count": 16
        }
      ]
    },
    {
      "cell_type": "code",
      "source": [
        "#create two 2x2 np.matrix\n",
        "z=np.zeros([2,2,2],dtype=int)\n",
        "z\n"
      ],
      "metadata": {
        "colab": {
          "base_uri": "https://localhost:8080/"
        },
        "id": "QsdKga6ZesRx",
        "outputId": "45dae1bf-2303-4bee-99b8-a55ffb32441a"
      },
      "execution_count": null,
      "outputs": [
        {
          "output_type": "execute_result",
          "data": {
            "text/plain": [
              "array([[[0, 0],\n",
              "        [0, 0]],\n",
              "\n",
              "       [[0, 0],\n",
              "        [0, 0]]])"
            ]
          },
          "metadata": {},
          "execution_count": 17
        }
      ]
    },
    {
      "cell_type": "code",
      "source": [
        "#matrix adittion\n",
        "a=np.array([[1,2],[3,4]])\n",
        "b=np.array([[1,2],[4,1]])\n",
        "print(a)\n",
        "print(b)\n",
        "print(a+b)\n",
        "print(a-b)\n",
        "print(a*b)#not matrix mult\n",
        "print(a@b)#matril mul\n",
        "print(a.dot(b))\n",
        "print(a/b)"
      ],
      "metadata": {
        "colab": {
          "base_uri": "https://localhost:8080/"
        },
        "id": "rr_DeDQPfMvD",
        "outputId": "3c7d687f-7bc7-45d1-a55e-0f30393907e2"
      },
      "execution_count": null,
      "outputs": [
        {
          "output_type": "stream",
          "name": "stdout",
          "text": [
            "[[1 2]\n",
            " [3 4]]\n",
            "[[1 2]\n",
            " [4 1]]\n",
            "[[2 4]\n",
            " [7 5]]\n",
            "[[ 0  0]\n",
            " [-1  3]]\n",
            "[[ 1  4]\n",
            " [12  4]]\n",
            "[[ 9  4]\n",
            " [19 10]]\n",
            "[[ 9  4]\n",
            " [19 10]]\n"
          ]
        }
      ]
    },
    {
      "cell_type": "code",
      "source": [
        "#full matrix\n",
        "z=np.full([3,4,4],6,dtype=int)\n",
        "z"
      ],
      "metadata": {
        "colab": {
          "base_uri": "https://localhost:8080/"
        },
        "id": "KhIZj0A9iK-m",
        "outputId": "615ee7cf-8c56-437d-f57a-56de9e8daae8"
      },
      "execution_count": null,
      "outputs": [
        {
          "output_type": "execute_result",
          "data": {
            "text/plain": [
              "array([[[6, 6, 6, 6],\n",
              "        [6, 6, 6, 6],\n",
              "        [6, 6, 6, 6],\n",
              "        [6, 6, 6, 6]],\n",
              "\n",
              "       [[6, 6, 6, 6],\n",
              "        [6, 6, 6, 6],\n",
              "        [6, 6, 6, 6],\n",
              "        [6, 6, 6, 6]],\n",
              "\n",
              "       [[6, 6, 6, 6],\n",
              "        [6, 6, 6, 6],\n",
              "        [6, 6, 6, 6],\n",
              "        [6, 6, 6, 6]]])"
            ]
          },
          "metadata": {},
          "execution_count": 23
        }
      ]
    },
    {
      "cell_type": "code",
      "source": [
        "#3x4 value 9 complex\n",
        "z=np.full([3,4],9,dtype=complex)\n",
        "z"
      ],
      "metadata": {
        "colab": {
          "base_uri": "https://localhost:8080/"
        },
        "id": "gZxmzTKaiEJ4",
        "outputId": "4e205bdf-efd6-4209-97c5-84fa0747b0f9"
      },
      "execution_count": null,
      "outputs": [
        {
          "output_type": "execute_result",
          "data": {
            "text/plain": [
              "array([[9.+0.j, 9.+0.j, 9.+0.j, 9.+0.j],\n",
              "       [9.+0.j, 9.+0.j, 9.+0.j, 9.+0.j],\n",
              "       [9.+0.j, 9.+0.j, 9.+0.j, 9.+0.j]])"
            ]
          },
          "metadata": {},
          "execution_count": 24
        }
      ]
    },
    {
      "cell_type": "code",
      "source": [
        "#identity matrix\n",
        "np.identity(3,dtype=int)\n",
        "z=np.eye(5)\n",
        "z"
      ],
      "metadata": {
        "colab": {
          "base_uri": "https://localhost:8080/"
        },
        "id": "MNzQx-VRi3A_",
        "outputId": "6109044c-b6d7-4bcd-da3e-7560ba2b2c0b"
      },
      "execution_count": null,
      "outputs": [
        {
          "output_type": "execute_result",
          "data": {
            "text/plain": [
              "array([[1., 0., 0., 0., 0.],\n",
              "       [0., 1., 0., 0., 0.],\n",
              "       [0., 0., 1., 0., 0.],\n",
              "       [0., 0., 0., 1., 0.],\n",
              "       [0., 0., 0., 0., 1.]])"
            ]
          },
          "metadata": {},
          "execution_count": 29
        }
      ]
    },
    {
      "cell_type": "code",
      "source": [
        "#create 4x4 matrix\n",
        "b=np.array([[1,2,3,4],[2,3,1,6],[1,23,4,5],[3,2,3,6]])\n",
        "a=b.reshape(8,2)\n",
        "a"
      ],
      "metadata": {
        "colab": {
          "base_uri": "https://localhost:8080/"
        },
        "id": "wh9FYb4NkpOB",
        "outputId": "7d07eef5-aef5-4b53-e88d-5368b04b9f44"
      },
      "execution_count": null,
      "outputs": [
        {
          "output_type": "execute_result",
          "data": {
            "text/plain": [
              "array([[ 1,  2],\n",
              "       [ 3,  4],\n",
              "       [ 2,  3],\n",
              "       [ 1,  6],\n",
              "       [ 1, 23],\n",
              "       [ 4,  5],\n",
              "       [ 3,  2],\n",
              "       [ 3,  6]])"
            ]
          },
          "metadata": {},
          "execution_count": 30
        }
      ]
    },
    {
      "cell_type": "code",
      "source": [
        "#arange\n",
        "a=np.arange(1,11,1)\n",
        "a"
      ],
      "metadata": {
        "colab": {
          "base_uri": "https://localhost:8080/"
        },
        "id": "TkD2rRZll_9m",
        "outputId": "0bcc6265-e7b2-4457-8fba-674d865d5421"
      },
      "execution_count": null,
      "outputs": [
        {
          "output_type": "execute_result",
          "data": {
            "text/plain": [
              "array([ 1,  2,  3,  4,  5,  6,  7,  8,  9, 10])"
            ]
          },
          "metadata": {},
          "execution_count": 34
        }
      ]
    },
    {
      "cell_type": "code",
      "source": [
        "\n",
        "#5x2 matrix usig arange\n",
        "a=np.arange(1,11,1)\n",
        "a.reshape(5,2)\n",
        "\n"
      ],
      "metadata": {
        "colab": {
          "base_uri": "https://localhost:8080/"
        },
        "id": "XThJ2LOSmeR-",
        "outputId": "b3c41dee-8307-488a-dc19-4be622c88737"
      },
      "execution_count": null,
      "outputs": [
        {
          "output_type": "execute_result",
          "data": {
            "text/plain": [
              "array([[ 1,  2],\n",
              "       [ 3,  4],\n",
              "       [ 5,  6],\n",
              "       [ 7,  8],\n",
              "       [ 9, 10]])"
            ]
          },
          "metadata": {},
          "execution_count": 35
        }
      ]
    },
    {
      "cell_type": "code",
      "source": [
        "#3x3 matrix with float val\n",
        "a="
      ],
      "metadata": {
        "id": "iN87LzexnDwy"
      },
      "execution_count": null,
      "outputs": []
    },
    {
      "cell_type": "code",
      "source": [
        "a=np.arange(1,11,1).reshape(5,2)\n",
        "print(a)\n",
        "print(a.max(axis=1))\n"
      ],
      "metadata": {
        "colab": {
          "base_uri": "https://localhost:8080/"
        },
        "id": "HnWnoxt3rWZs",
        "outputId": "9de78295-53a9-4ce8-8639-03c1ce3e00d6"
      },
      "execution_count": null,
      "outputs": [
        {
          "output_type": "stream",
          "name": "stdout",
          "text": [
            "[[ 1  2]\n",
            " [ 3  4]\n",
            " [ 5  6]\n",
            " [ 7  8]\n",
            " [ 9 10]]\n",
            "[ 2  4  6  8 10]\n"
          ]
        }
      ]
    },
    {
      "cell_type": "code",
      "source": [
        "import numpy as np\n",
        "a=np.array([[1,2,3],[5,3,1],[9,7,6]])\n",
        "print(a)\n",
        "b=np.sort(a,axis=1)\n",
        "print(b)\n",
        "c=np.argsort(a,axis=1)\n",
        "print(c)"
      ],
      "metadata": {
        "colab": {
          "base_uri": "https://localhost:8080/"
        },
        "id": "t0QcKB12mWth",
        "outputId": "4b268ceb-897e-4592-991a-8ec8dd6dbc6d"
      },
      "execution_count": 4,
      "outputs": [
        {
          "output_type": "stream",
          "name": "stdout",
          "text": [
            "[[1 2 3]\n",
            " [5 3 1]\n",
            " [9 7 6]]\n",
            "[[1 2 3]\n",
            " [1 3 5]\n",
            " [6 7 9]]\n",
            "[[0 1 2]\n",
            " [2 1 0]\n",
            " [2 1 0]]\n"
          ]
        }
      ]
    },
    {
      "cell_type": "code",
      "source": [
        "a=np.array([[1,2,3],[5,3,1],[9,7,6]])\n",
        "print(a)\n",
        "b=a.flatten()\n",
        "print(b)"
      ],
      "metadata": {
        "colab": {
          "base_uri": "https://localhost:8080/"
        },
        "id": "6ZsL8shOnjYK",
        "outputId": "676ea74c-2e79-4923-c8f5-1c210389532b"
      },
      "execution_count": 7,
      "outputs": [
        {
          "output_type": "stream",
          "name": "stdout",
          "text": [
            "[[1 2 3]\n",
            " [5 3 1]\n",
            " [9 7 6]]\n",
            "[1 2 3 5 3 1 9 7 6]\n"
          ]
        }
      ]
    }
  ]
}